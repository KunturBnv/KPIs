{
 "cells": [
  {
   "cell_type": "code",
   "execution_count": 131,
   "metadata": {},
   "outputs": [],
   "source": [
    "import pandas as pd\n",
    "import numpy as np\n",
    "import os\n",
    "import openpyxl"
   ]
  },
  {
   "cell_type": "code",
   "execution_count": 73,
   "metadata": {},
   "outputs": [],
   "source": [
    "filepathCostos = r'\\\\u-srvnas\\Areas\\Mantenimiento\\00.1 Mantto Planeamiento\\0000. Gestión 2019\\1. REPORTES\\1. BASES DE DATOS DIARIOS\\Data SAP\\01. Costos'\n",
    "filepathOtAv = r'\\\\u-srvnas\\Areas\\Mantenimiento\\00.1 Mantto Planeamiento\\0000. Gestión 2019\\1. REPORTES\\1. BASES DE DATOS DIARIOS\\Data SAP\\04. OT y Av'\n",
    "\n",
    "#Costos \n",
    "CeCo = r'BD-CeCo1004.xlsx' #Estatico\n",
    "ClaseCostos = r'BD-ClaseCoste1004.xlsx' #Estatico\n",
    "filename3611 = r'3611.XLSX' #Dinamico\n",
    "filename2993 = r'2993.XLSX' #Dinamico\n",
    "\n",
    "#OT\n",
    "filenameOt = r'IW39.xlsx'\n",
    "\n"
   ]
  },
  {
   "cell_type": "code",
   "execution_count": 80,
   "metadata": {},
   "outputs": [],
   "source": [
    "fullpath_CeCo = os.path.join(filepathCostos,CeCo)\n",
    "fullpath_ClCo = os.path.join(filepathCostos,ClaseCostos)\n",
    "\n",
    "fullpath_3611 = os.path.join(filepathCostos,filename3611)\n",
    "fullpath_2993 = os.path.join(filepathCostos,filename2993)\n",
    "fullpath_Ot = os.path.join(filepathOtAv,filenameOt)"
   ]
  },
  {
   "cell_type": "code",
   "execution_count": 85,
   "metadata": {},
   "outputs": [
    {
     "data": {
      "text/plain": [
       "'\\\\\\\\u-srvnas\\\\Areas\\\\Mantenimiento\\\\00.1 Mantto Planeamiento\\\\0000. Gestión 2019\\\\1. REPORTES\\\\1. BASES DE DATOS DIARIOS\\\\Data SAP\\\\04. OT y Av\\\\IW39.xlsx'"
      ]
     },
     "execution_count": 85,
     "metadata": {},
     "output_type": "execute_result"
    }
   ],
   "source": [
    "fullpath_Ot"
   ]
  },
  {
   "cell_type": "code",
   "execution_count": 5,
   "metadata": {},
   "outputs": [],
   "source": [
    "dbCeCo = pd.read_excel(fullpath_CeCo)"
   ]
  },
  {
   "cell_type": "code",
   "execution_count": 6,
   "metadata": {},
   "outputs": [],
   "source": [
    "dbClCo = pd.read_excel(fullpath_ClCo)"
   ]
  },
  {
   "cell_type": "code",
   "execution_count": 60,
   "metadata": {},
   "outputs": [],
   "source": [
    "db3611 = pd.read_excel(fullpath_3611,converters={'Orden partner':str,'Centro de coste':str,'Clase de coste':str})"
   ]
  },
  {
   "cell_type": "code",
   "execution_count": 124,
   "metadata": {},
   "outputs": [],
   "source": [
    "db2993 = pd.read_excel(fullpath_2993,converters={'Orden':str,'Clase de coste':str})"
   ]
  },
  {
   "cell_type": "code",
   "execution_count": 81,
   "metadata": {},
   "outputs": [],
   "source": [
    "dbOt = pd.read_excel(fullpath_Ot, head = 0,converters={'Orden':str,'Aviso':str})"
   ]
  },
  {
   "cell_type": "code",
   "execution_count": null,
   "metadata": {},
   "outputs": [],
   "source": [
    "#Reporte de Costos"
   ]
  },
  {
   "cell_type": "code",
   "execution_count": 126,
   "metadata": {},
   "outputs": [],
   "source": [
    "RC01 = pd.merge(db2993[['Orden', 'Fe.contabilización', 'Valor/Moneda objeto', 'Clase de coste']],\n",
    "                dbOt[['Orden', 'Clase de orden', 'Status sistema', 'Grupo planif.', 'Equipo']],\n",
    "                on = ['Orden','Orden'],\n",
    "                how = 'left')"
   ]
  },
  {
   "cell_type": "code",
   "execution_count": 125,
   "metadata": {},
   "outputs": [
    {
     "data": {
      "text/plain": [
       "(4988, 25)"
      ]
     },
     "execution_count": 125,
     "metadata": {},
     "output_type": "execute_result"
    }
   ],
   "source": [
    "db2993.shape"
   ]
  },
  {
   "cell_type": "code",
   "execution_count": 113,
   "metadata": {},
   "outputs": [
    {
     "data": {
      "text/plain": [
       "Orden                      object\n",
       "Aviso                      object\n",
       "Texto breve                object\n",
       "Ce.emplazam.                int64\n",
       "Clase de orden             object\n",
       "Cl.actividad PM            object\n",
       "Status sistema             object\n",
       "Status usuario             object\n",
       "Indicador ABC             float64\n",
       "Prioridad                 float64\n",
       "Fe.inic.extrema    datetime64[ns]\n",
       "Hora inicio                object\n",
       "Fe.inicio real     datetime64[ns]\n",
       "Hora in.real               object\n",
       "Fecha fin real     datetime64[ns]\n",
       "Fin real (hora)            object\n",
       "Liberación real    datetime64[ns]\n",
       "Equipo                    float64\n",
       "Denominación               object\n",
       "Ubicac.técnica             object\n",
       "Denominación.1             object\n",
       "Plan mant.prev.           float64\n",
       "Pet.borrado                object\n",
       "Revisión                   object\n",
       "Centro coste              float64\n",
       "Grupo planif.              object\n",
       "Pto.tbjo.resp.             object\n",
       "Puesto trabajo             object\n",
       "dtype: object"
      ]
     },
     "execution_count": 113,
     "metadata": {},
     "output_type": "execute_result"
    }
   ],
   "source": [
    "dbOt.dtypes"
   ]
  },
  {
   "cell_type": "code",
   "execution_count": 130,
   "metadata": {},
   "outputs": [],
   "source": [
    "with pd.ExcelWriter('output.xlsx', mode='w') as writer:\n",
    "    RC01.to_excel(writer, sheet_name='Sheet_name_1')"
   ]
  },
  {
   "cell_type": "code",
   "execution_count": null,
   "metadata": {},
   "outputs": [],
   "source": []
  },
  {
   "cell_type": "code",
   "execution_count": null,
   "metadata": {},
   "outputs": [],
   "source": []
  },
  {
   "cell_type": "code",
   "execution_count": 112,
   "metadata": {},
   "outputs": [
    {
     "data": {
      "text/plain": [
       "División                                 float64\n",
       "Centro                                   float64\n",
       "Ejercicio                                float64\n",
       "Período                                  float64\n",
       "Fe.contabilización                datetime64[ns]\n",
       "Orden                                     object\n",
       "Denominación del objeto                   object\n",
       "Valor/Moneda objeto                      float64\n",
       "Moneda del objeto                         object\n",
       "Material                                 float64\n",
       "Texto breve de material                   object\n",
       "Cantidad total reg.                      float64\n",
       "Ud. cantidad contab.                      object\n",
       "Documento compras                        float64\n",
       "Texto de pedido                           object\n",
       "Clase de coste                            object\n",
       "Descrip.clases coste                      object\n",
       "Proveedor                                float64\n",
       "Nombre                                    object\n",
       "Clase de documento                        object\n",
       "Anulado                                  float64\n",
       "Indic.cargo/abono                         object\n",
       "Fecha de documento                datetime64[ns]\n",
       "Usuario                                   object\n",
       "Texto de cabecera de documento            object\n",
       "dtype: object"
      ]
     },
     "execution_count": 112,
     "metadata": {},
     "output_type": "execute_result"
    }
   ],
   "source": [
    "db2993.dtypes"
   ]
  },
  {
   "cell_type": "code",
   "execution_count": null,
   "metadata": {},
   "outputs": [],
   "source": []
  }
 ],
 "metadata": {
  "kernelspec": {
   "display_name": "Python 3",
   "language": "python",
   "name": "python3"
  },
  "language_info": {
   "codemirror_mode": {
    "name": "ipython",
    "version": 3
   },
   "file_extension": ".py",
   "mimetype": "text/x-python",
   "name": "python",
   "nbconvert_exporter": "python",
   "pygments_lexer": "ipython3",
   "version": "3.7.1"
  }
 },
 "nbformat": 4,
 "nbformat_minor": 2
}
