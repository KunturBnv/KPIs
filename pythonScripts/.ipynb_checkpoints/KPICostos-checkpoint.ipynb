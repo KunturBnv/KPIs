{
 "cells": [
  {
   "cell_type": "code",
   "execution_count": null,
   "metadata": {},
   "outputs": [],
   "source": [
    "print(\"Importando Librerias y Funciones\")"
   ]
  },
  {
   "cell_type": "code",
   "execution_count": 29,
   "metadata": {},
   "outputs": [],
   "source": [
    "import pandas as pd\n",
    "import numpy as np\n",
    "import os\n",
    "from openpyxl import Workbook\n",
    "import datetime\n",
    "import shutil "
   ]
  },
  {
   "cell_type": "code",
   "execution_count": null,
   "metadata": {},
   "outputs": [],
   "source": [
    "print(\"Estamos trabajando en Obtener la Data\")"
   ]
  },
  {
   "cell_type": "code",
   "execution_count": 24,
   "metadata": {},
   "outputs": [],
   "source": [
    "# Files Directions, Rutes and file names\n",
    "filepathCostos = r'\\\\u-srvnas\\Areas\\Mantenimiento\\00.1 Mantto Planeamiento\\0000. Gestión 2019\\1. REPORTES\\1. BASES DE DATOS DIARIOS\\Data SAP\\01. Costos'\n",
    "filepathOtAv = r'\\\\u-srvnas\\Areas\\Mantenimiento\\00.1 Mantto Planeamiento\\0000. Gestión 2019\\1. REPORTES\\1. BASES DE DATOS DIARIOS\\Data SAP\\04. OT y Av'\n",
    "filepathReporte = r'\\\\u-srvnas\\Areas\\Mantenimiento\\00.1 Mantto Planeamiento\\0000. Gestión 2019\\1. REPORTES\\1. BASES DE DATOS DIARIOS\\Data SAP\\09. Reportes\\Reporte de Costes'\n",
    "filepathMateriales = r'\\\\u-srvnas\\Areas\\Mantenimiento\\00.1 Mantto Planeamiento\\0000. Gestión 2019\\1. REPORTES\\1. BASES DE DATOS DIARIOS\\Data SAP\\03. Materiales'\n",
    "filepathBaseDatos = r'\\\\u-srvnas\\Areas\\Mantenimiento\\00.1 Mantto Planeamiento\\0000. Gestión 2019\\1. REPORTES\\1. BASES DE DATOS DIARIOS\\Data SAP\\08. Base de Datos'\n",
    "\n",
    "#File Names\n",
    "CeCo = r'CeCo1004.xlsx' #Estatico\n",
    "ClaseCostos = r'KA23.xlsx' #Estatico\n",
    "Budget = r'Presupuesto1004-2019Qlik.xlsx' #Estatico\n",
    "ZPM028 = r'ZMM028.XLSX' #Dinamico\n",
    "\n",
    "filename3611 = r'3611.XLSX' #Dinamico\n",
    "filename2993 = r'2993.XLSX' #Dinamico\n",
    "\n",
    "filenameBasedatos = r'BaseDatosCostos.xlsx'\n",
    "filenameReporte = r'ReporteCostos.xlsx'\n",
    "\n",
    "#OT\n",
    "filenameOt = r'IW39.xlsx'"
   ]
  },
  {
   "cell_type": "code",
   "execution_count": 25,
   "metadata": {},
   "outputs": [],
   "source": [
    "#Charging DataSet\n",
    "fullpath_CeCo = os.path.join(filepathCostos,CeCo)\n",
    "fullpath_ClCo = os.path.join(filepathCostos,ClaseCostos)\n",
    "fullpath_Budget = os.path.join(filepathCostos,Budget)\n",
    "\n",
    "fullpath_3611 = os.path.join(filepathCostos,filename3611)\n",
    "fullpath_2993 = os.path.join(filepathCostos,filename2993)\n",
    "fullpath_Ot = os.path.join(filepathOtAv, filenameOt)\n",
    "fullpathZPM028 = os.path.join(filepathMateriales, ZPM028)\n",
    "fullpathReporte = os.path.join(filepathReporte,filenameReporte)\n",
    "fullpathBD = os.path.join(filepathBaseDatos,filenameBasedatos)"
   ]
  },
  {
   "cell_type": "code",
   "execution_count": 4,
   "metadata": {},
   "outputs": [],
   "source": [
    "dbceco = pd.read_excel(fullpath_CeCo, converters={'CeCo':str})\n",
    "dbclco = pd.read_excel(fullpath_ClCo, converters={'ClCo':str})\n",
    "dbbudget = pd.read_excel(fullpath_Budget, converters={'CeCo':str, 'ClCo':str, 'MesNumero':str})\n",
    "dbzpm028 = pd.read_excel(fullpathZPM028, convers ={'Material':str,\n",
    "                                                   'Grupo de Artículos':str,\n",
    "                                                   'Desc. Grupo de Artículos':str,\n",
    "                                                   'Grupo de Compras':str})\n",
    "dbzpm028 = dbzpm028[['Material', 'Desc. Grupo de Artículos',\n",
    "                     'Grupo de Compras',\n",
    "                     'Grupo de Artículos']].rename(columns = {'Grupo de Compras':'GrupoCompras',\n",
    "                                                              'Grupo de Artículos':'GrupoArticulos', \n",
    "                                                              'Desc. Grupo de Artículos':'DescripGrupoArticulos'})"
   ]
  },
  {
   "cell_type": "code",
   "execution_count": 5,
   "metadata": {},
   "outputs": [],
   "source": [
    "def mesdenom(x):\n",
    "    if x == '01':\n",
    "        return 'Enero'\n",
    "    elif x == '02':\n",
    "        return 'Febrero'\n",
    "    elif x == '03':\n",
    "        return 'Marzo'\n",
    "    elif x == '04':\n",
    "        return 'Abril'\n",
    "    elif x == '05':\n",
    "        return 'Mayo'\n",
    "    elif x == '06':\n",
    "        return 'Junio'\n",
    "    elif x == '07':\n",
    "        return 'Julio'\n",
    "    elif x == '08':\n",
    "        return 'Agosto'\n",
    "    elif x == '09':\n",
    "        return 'Setiembre'\n",
    "    elif x == '10':\n",
    "        return 'Octubre'\n",
    "    elif x == '11':\n",
    "        return 'Noviembre'\n",
    "    elif x == '12':\n",
    "        return 'Diciembre'\n",
    "    else: \n",
    "        return 'Error'"
   ]
  },
  {
   "cell_type": "code",
   "execution_count": 6,
   "metadata": {},
   "outputs": [],
   "source": [
    "#Get Budget by Days, weeks, month\n",
    "budget = pd.merge(dbbudget,\n",
    "                    dbceco[['CeCo','AreaResponsable']],\n",
    "                    on='CeCo',\n",
    "                    how = 'left',\n",
    "                    validate = 'm:1')\n",
    "\n",
    "# all Days between two Dates\n",
    "begin = datetime.date(2019, 1, 1)\n",
    "end = datetime.date(2019, 12, 31)\n",
    "\n",
    "next_day = begin\n",
    "\n",
    "allday = []\n",
    "allweek = []\n",
    "allmonth = []\n",
    "\n",
    "\n",
    "while True:\n",
    "    if next_day > end:\n",
    "        break\n",
    "    allday.append(next_day.strftime('%d'))\n",
    "    allweek.append('Sem ' + next_day.strftime('%V'))\n",
    "    allmonth.append(next_day.strftime('%m'))\n",
    "    next_day += datetime.timedelta(days=1)\n",
    "\n",
    "# Array of all year days\n",
    "allyear = pd.DataFrame()\n",
    "allyear['DiaNumero'] = allday \n",
    "allyear['SemanaNumero'] = allweek \n",
    "allyear['MesNumero'] = allmonth\n",
    "allyear['DiaNumeroInt'] = [int(x) for x in allyear['DiaNumero']]\n",
    "MaxTable = allyear.groupby(['MesNumero'], \n",
    "                           as_index = False).agg({'DiaNumeroInt':'max'}).rename(columns = {'DiaNumeroInt':'MesDiaMax'})\n",
    "allyear = pd.merge(allyear[['DiaNumero',\n",
    "                             'SemanaNumero',\n",
    "                             'MesNumero',\n",
    "                             'DiaNumeroInt']],\n",
    "                    MaxTable[['MesNumero',\n",
    "                              'MesDiaMax']],\n",
    "                    on = 'MesNumero',\n",
    "                    how = 'left')\n",
    "allyear['MesDescrip'] = allyear['MesNumero'].apply(lambda x: mesdenom(x))\n",
    "\n",
    "# Get Budget by NaturalezaGasto\n",
    "budget = budget.groupby(['Escenario', 'CeCo', 'DenomCeCo', 'Division', 'Proceso', 'Año',\n",
    "       'MesNumero', 'Mes', 'NaturalezaGasto',\n",
    "       'AreaResponsable'], as_index = False).agg({'Costo':'sum'})\n",
    "\n",
    "# Get Budget by days\n",
    "budgetdays = pd.merge(allyear,\n",
    "                      budget,\n",
    "                      on = 'MesNumero',\n",
    "                     how = 'left')\n",
    "\n",
    "budgetdays['Costo'] = budgetdays['Costo']/budgetdays['MesDiaMax']"
   ]
  },
  {
   "cell_type": "code",
   "execution_count": 7,
   "metadata": {},
   "outputs": [],
   "source": [
    "dbot = pd.read_excel(fullpath_Ot, head = 0,converters={'Orden':str,'Aviso':str,'Centro coste':str})\n",
    "dbot = dbot.rename(columns={'Texto breve':'DenomOrden',\n",
    "                                'Clase de orden':'ClaseOrden',\n",
    "                                'Cl.actividad PM':'ClaseActividadOrden',\n",
    "                                'Status sistema':'EstatusSistema',\n",
    "                                'Status usuario':'EstatusUsuario',\n",
    "                                'Indicador ABC':'CriticidadEq',\n",
    "                                'Fe.inic.extrema':'FechaProgramada',\n",
    "                                'Hora inicio':'HoraProgramada',\n",
    "                                'Fe.inicio real':'FechaInicioEjecucion',\n",
    "                                'Hora in.real':'HoraInicioEjecucion',\n",
    "                                'Fecha fin real':'FechaFinEjecucion',\n",
    "                                'Fin real (hora)':'HoraFinEjecucion',\n",
    "                                'Liberación real':'FechaDeProgramacon',\n",
    "                                'Denominación':'DenomEq',\n",
    "                                'Ubicac.técnica':'UbicacionTecnica',\n",
    "                                'Denominación.1':'DenomUbT',\n",
    "                                'Centro coste':'CeCo',\n",
    "                                'Plan mant.prev.':'PlanMtto',\n",
    "                                'Revisión':'Revision',\n",
    "                                'Grupo planif.':'GrupoPlanif',\n",
    "                                'Pto.tbjo.resp.':'PuestoTrabajoResp',\n",
    "                                'Puesto trabajo':'PuestoTrabajo'})\n"
   ]
  },
  {
   "cell_type": "code",
   "execution_count": null,
   "metadata": {},
   "outputs": [],
   "source": [
    "print(\"Comensaremos a Trabajar la Data, combinarla, normalizarla, etc\")"
   ]
  },
  {
   "cell_type": "markdown",
   "metadata": {},
   "source": [
    "## Data de Costos en base a OT"
   ]
  },
  {
   "cell_type": "code",
   "execution_count": 8,
   "metadata": {},
   "outputs": [],
   "source": [
    "db2993 = pd.read_excel(fullpath_2993, converters={'Orden':str,\n",
    "                                                  'Clase de coste':str,\n",
    "                                                  'Material':str})\n",
    "db2993 = db2993.dropna(subset=['Orden'])\n",
    "\n",
    "db2993 = db2993.rename(columns={'División':'Division',\n",
    "                                'Período':'Periodo',\n",
    "                                'Fe.contabilización':'FechaContable',\n",
    "                                'Denominación del objeto':'DenomOrden',\n",
    "                                'Valor/Moneda objeto':'Costo',\n",
    "                                'Moneda del objeto':'Moneda',\n",
    "                                'Texto breve de material':'DenomMaterial',\n",
    "                                'Cantidad total reg.':'CantMaterial',\n",
    "                                'Ud. cantidad contab.':'UnidadCantMaterial',\n",
    "                                'Documento compras':'DocumentoCompras',\n",
    "                                'Texto de pedido':'DenomDocCompras',\n",
    "                                'Clase de coste':'ClCo',\n",
    "                                'Descrip.clases coste':'DenomClCo',\n",
    "                                'Nombre':'DenomProveedor',\n",
    "                                'Clase de documento':'ClaseDocumento',\n",
    "                                'Indic.cargo/abono':'IndCargoAbono'})\n",
    "db2993['Escenario'] = 'Real'\n",
    "db2993['TipoData'] = '2993'\n",
    "db2993[\"FechaContableStr\"] = db2993[\"FechaContable\"].apply(lambda x: x.strftime('%m/%d/%Y'))\n",
    "db2993[\"DiaNumero\"] = db2993[\"FechaContable\"].apply(lambda x: x.strftime('%d'))\n",
    "db2993[\"SemanaNumero\"] = db2993[\"FechaContable\"].apply(lambda x: 'Sem ' + x.strftime('%V'))\n",
    "db2993[\"MesNumero\"] = db2993[\"FechaContable\"].apply(lambda x: x.strftime('%m'))\n",
    "db2993[\"MesDescrip\"] = db2993[\"MesNumero\"].apply(lambda x: mesdenom(x))"
   ]
  },
  {
   "cell_type": "code",
   "execution_count": 9,
   "metadata": {},
   "outputs": [],
   "source": [
    "costosot = pd.merge(db2993[['Orden', 'DenomOrden',\n",
    "                            'Costo',\n",
    "                            'Material', 'DenomMaterial', 'CantMaterial', 'UnidadCantMaterial',\n",
    "                            'Proveedor', 'DenomProveedor',\n",
    "                            'Escenario',\n",
    "                            'ClCo', 'DenomClCo',\n",
    "                            'MesNumero', 'MesDescrip', 'SemanaNumero', 'DiaNumero',\n",
    "                            'TipoData']],\n",
    "                  dbzpm028[['Material','DescripGrupoArticulos','GrupoCompras']],\n",
    "                  on='Material', \n",
    "                  how = 'left',\n",
    "                  validate = 'm:1')"
   ]
  },
  {
   "cell_type": "code",
   "execution_count": 10,
   "metadata": {},
   "outputs": [],
   "source": [
    "#Reporte de Costos / 2993 <-> Clase de Coste\n",
    "costosot = pd.merge(costosot, \n",
    "                    dbclco[['ClCo', 'NaturalezaGasto']], \n",
    "                    on='ClCo', \n",
    "                    how = 'left',\n",
    "                    validate = 'm:1')"
   ]
  },
  {
   "cell_type": "code",
   "execution_count": 11,
   "metadata": {},
   "outputs": [],
   "source": [
    "#Reporte de Costos / 2993,clase de coste<-> Orden de Mantenimiento\n",
    "costosot = pd.merge(costosot, \n",
    "                    dbot[['Orden', 'ClaseOrden', 'CriticidadEq', 'Equipo', 'DenomEq', 'UbicacionTecnica', 'DenomUbT',\n",
    "                          'PlanMtto',\n",
    "                          'CeCo']], \n",
    "                    on = 'Orden', \n",
    "                    how = 'left',\n",
    "                    validate = 'm:1')"
   ]
  },
  {
   "cell_type": "code",
   "execution_count": 12,
   "metadata": {},
   "outputs": [],
   "source": [
    "#Reporte de Costos / 2993,clase de coste,Orden de Mantenimiento<-> Centro de Coste\n",
    "costosot = pd.merge(costosot,\n",
    "                    dbceco[['CeCo', 'DenomCeCo',\n",
    "                            'AreaResponsable','Proceso']],\n",
    "                    on='CeCo',\n",
    "                    how = 'left',\n",
    "                    validate = 'm:1')\n"
   ]
  },
  {
   "cell_type": "markdown",
   "metadata": {},
   "source": [
    "## Data de Costos en base a CeCo"
   ]
  },
  {
   "cell_type": "code",
   "execution_count": 13,
   "metadata": {},
   "outputs": [],
   "source": [
    "db3611 = pd.read_excel(fullpath_3611, converters={'Orden partner':str,\n",
    "                                                  'Centro de coste':str,\n",
    "                                                  'Clase de coste':str,\n",
    "                                                  'Documento compras':str,\n",
    "                                                  'Proveedor':str,\n",
    "                                                  'Material':str})\n",
    "db3611 = db3611.dropna(subset=['Centro de coste'])\n",
    "db3611 = db3611.rename(columns={'Período':'Periodo',\n",
    "                                'Fe.contabilización':'FechaContable',\n",
    "                                'Valor/Moneda objeto':'Costo',\n",
    "                                'Moneda del informe':'Moneda',\n",
    "                                'Orden partner':'Orden',\n",
    "                                'Denominación del objeto del interlocutor':'DenomOrden',\n",
    "                                'Documento compras':'DocumentoCompras',\n",
    "                                'Texto de pedido':'DenomDocCompras',\n",
    "                                'Nombre':'DenomProveedor',\n",
    "                                'Centro de coste':'CeCo',\n",
    "                                'Denominación del objeto':'DenomCeCo',\n",
    "                                'Clase de coste':'ClCo',\n",
    "                                'Descrip.clases coste':'DenomClCo',\n",
    "                                'Texto breve de material':'DenomMaterial',\n",
    "                                'Cantidad total reg.':'CantMaterial',\n",
    "                                'Ud. cantidad contab.':'UnidadCantMaterial',\n",
    "                                'Clase de documento':'ClaseDocumento',\n",
    "                                'Indic.cargo/abono':'IndCargoAbono'})\n",
    "\n",
    "db3611['Escenario'] = 'Real'\n",
    "db3611['TipoData'] = '3611'\n",
    "db3611[\"FechaContableStr\"] = db3611[\"FechaContable\"].apply(lambda x: x.strftime('%m/%d/%Y'))\n",
    "db3611[\"DiaNumero\"] = db3611[\"FechaContable\"].apply(lambda x: x.strftime('%d'))\n",
    "db3611[\"SemanaNumero\"] = db3611[\"FechaContable\"].apply(lambda x: 'Sem ' + x.strftime('%V'))\n",
    "db3611[\"MesNumero\"] = db3611[\"FechaContable\"].apply(lambda x: x.strftime('%m'))\n",
    "db3611[\"MesDescrip\"] = db3611[\"MesNumero\"].apply(lambda x: mesdenom(x))\n",
    "\n",
    "db3611 = db3611.dropna(subset=['CeCo'])"
   ]
  },
  {
   "cell_type": "code",
   "execution_count": 14,
   "metadata": {},
   "outputs": [],
   "source": [
    "costosceco = pd.merge(db3611[['Orden', 'DenomOrden', \n",
    "                            'Costo',\n",
    "                            'Material', 'DenomMaterial', 'CantMaterial', 'UnidadCantMaterial',\n",
    "                            'Proveedor', 'DenomProveedor',\n",
    "                            'Escenario',\n",
    "                            'CeCo' ,'DenomCeCo',\n",
    "                            'ClCo', 'DenomClCo',\n",
    "                            'MesNumero', 'MesDescrip', 'SemanaNumero', 'DiaNumero',\n",
    "                            'TipoData']],\n",
    "                  dbzpm028[['Material','DescripGrupoArticulos']],\n",
    "                  on='Material', \n",
    "                  how = 'left',\n",
    "                  validate = 'm:1')"
   ]
  },
  {
   "cell_type": "code",
   "execution_count": 15,
   "metadata": {},
   "outputs": [],
   "source": [
    "# Reporte de Costos / 3611 <-> Clase de Coste\n",
    "costosceco = pd.merge(costosceco,\n",
    "                    dbclco[['ClCo',\n",
    "                            'NaturalezaGasto']],\n",
    "                    on='ClCo',\n",
    "                    how = 'left',\n",
    "                    validate = 'm:1')"
   ]
  },
  {
   "cell_type": "code",
   "execution_count": 16,
   "metadata": {},
   "outputs": [],
   "source": [
    "#Reporte de Costos / 2993,clase de coste<-> Orden de Mantenimiento\n",
    "costosceco = pd.merge(costosceco, \n",
    "                    dbot[['Orden',\n",
    "                          'ClaseOrden',\n",
    "                          'Equipo','DenomEq','CriticidadEq',\n",
    "                          'UbicacionTecnica', 'DenomUbT', 'PlanMtto']], \n",
    "                    on='Orden', \n",
    "                    how = 'left',\n",
    "                    validate = 'm:1')"
   ]
  },
  {
   "cell_type": "code",
   "execution_count": 17,
   "metadata": {},
   "outputs": [],
   "source": [
    "#Reporte de Costos / 3611,clase de coste,Orden de Mantenimiento<-> Centro de Coste\n",
    "costosceco = pd.merge(costosceco, \n",
    "                    dbceco[['CeCo', 'AreaResponsable','Proceso']],\n",
    "                    on='CeCo',\n",
    "                    how = 'left',\n",
    "                    validate = 'm:1')"
   ]
  },
  {
   "cell_type": "code",
   "execution_count": 18,
   "metadata": {},
   "outputs": [],
   "source": [
    "costoscecosot = costosceco[costosceco.Orden.isna()]"
   ]
  },
  {
   "cell_type": "code",
   "execution_count": 19,
   "metadata": {},
   "outputs": [],
   "source": [
    "RC01 = pd.concat([costosot[['DiaNumero', 'SemanaNumero', 'MesNumero', 'MesDescrip',\n",
    "                            'Orden', 'DenomOrden','ClaseOrden', 'PlanMtto',\n",
    "                            'Costo',\n",
    "                            'Material', 'DenomMaterial', 'CantMaterial', 'UnidadCantMaterial',\n",
    "                            'DescripGrupoArticulos',\n",
    "                            'Equipo', 'DenomEq', 'CriticidadEq',\n",
    "                            'UbicacionTecnica', 'DenomUbT',\n",
    "                            'Proveedor', 'DenomProveedor',\n",
    "                            'Escenario', \n",
    "                            'NaturalezaGasto',\n",
    "                            'CeCo', 'DenomCeCo',\n",
    "                            'ClCo', 'DenomClCo',\n",
    "                            'AreaResponsable',\n",
    "                            'Proceso',\n",
    "                            'TipoData']],\n",
    "                  budgetdays[['DiaNumero',\n",
    "                              'SemanaNumero',\n",
    "                              'MesNumero',\n",
    "                              'MesDescrip',\n",
    "                              'AreaResponsable',\n",
    "                              'Proceso',\n",
    "                              'Escenario',\n",
    "                              'NaturalezaGasto',\n",
    "                              'Costo',]]], \n",
    "                 ignore_index=True, \n",
    "                 sort=True,\n",
    "                 join = 'outer')"
   ]
  },
  {
   "cell_type": "code",
   "execution_count": 20,
   "metadata": {},
   "outputs": [],
   "source": [
    "RC02 = pd.concat([costosceco[['Orden', 'DenomOrden','ClaseOrden','PlanMtto',\n",
    "                              'Costo',\n",
    "                                'Material', 'DenomMaterial', 'CantMaterial', 'UnidadCantMaterial',\n",
    "                                'DescripGrupoArticulos',\n",
    "                                'Equipo','DenomEq','CriticidadEq',\n",
    "                                'UbicacionTecnica', 'DenomUbT',\n",
    "                                'Proveedor', 'DenomProveedor',\n",
    "                                'Escenario',\n",
    "                                'AreaResponsable',\n",
    "                                'NaturalezaGasto',\n",
    "                                'CeCo' ,'DenomCeCo',\n",
    "                                'ClCo', 'DenomClCo',\n",
    "                                'MesNumero', 'MesDescrip', 'SemanaNumero', 'DiaNumero',\n",
    "                                'Proceso',\n",
    "                                'TipoData']], \n",
    "                  budgetdays[['DiaNumero', 'SemanaNumero', 'MesNumero', 'MesDescrip',\n",
    "                              'CeCo', 'DenomCeCo',\n",
    "                              'Costo',\n",
    "                              'Proceso',\n",
    "                              'AreaResponsable',\n",
    "                              'Escenario',\n",
    "                              'NaturalezaGasto']]], \n",
    "                 ignore_index=True, \n",
    "                 sort=True)"
   ]
  },
  {
   "cell_type": "markdown",
   "metadata": {},
   "source": [
    "## Combinaciónd e todas las Tx de Costos"
   ]
  },
  {
   "cell_type": "code",
   "execution_count": 21,
   "metadata": {},
   "outputs": [],
   "source": [
    "#  2993 - 3611 - OT - \n",
    "RC03 = pd.concat([RC01[['Orden', 'DenomOrden', 'ClaseOrden',\n",
    "                        'PlanMtto',\n",
    "                        'Costo',\n",
    "                        'Material', 'DenomMaterial', 'CantMaterial', 'UnidadCantMaterial',\n",
    "                        'DescripGrupoArticulos',\n",
    "                        'Proveedor', 'DenomProveedor',\n",
    "                        'Equipo','DenomEq','CriticidadEq',\n",
    "                        'UbicacionTecnica', 'DenomUbT',\n",
    "                        'Escenario',\n",
    "                        'NaturalezaGasto',\n",
    "                        'AreaResponsable', 'Proceso',\n",
    "                        'CeCo' ,'DenomCeCo',\n",
    "                        'ClCo', 'DenomClCo',\n",
    "                        'MesNumero', 'MesDescrip', 'SemanaNumero', 'DiaNumero',\n",
    "                        'TipoData']], \n",
    "                  costoscecosot[['Orden', 'DenomOrden',\n",
    "                                'Costo',\n",
    "                                'Material', 'DenomMaterial', 'CantMaterial', 'UnidadCantMaterial',\n",
    "                                'DescripGrupoArticulos',\n",
    "                                'Proveedor', 'DenomProveedor',\n",
    "                                'Escenario',\n",
    "                                'NaturalezaGasto',\n",
    "                                'AreaResponsable', 'Proceso',\n",
    "                                'CeCo' ,'DenomCeCo',\n",
    "                                'ClCo', 'DenomClCo',\n",
    "                                'MesNumero', 'MesDescrip', 'SemanaNumero', 'DiaNumero',\n",
    "                                'TipoData']]], \n",
    "                 ignore_index=True, \n",
    "                 sort=True)"
   ]
  },
  {
   "cell_type": "code",
   "execution_count": null,
   "metadata": {},
   "outputs": [],
   "source": [
    "print(\"Grabando El Reporte\")"
   ]
  },
  {
   "cell_type": "code",
   "execution_count": 22,
   "metadata": {},
   "outputs": [],
   "source": [
    "with pd.ExcelWriter(fullpathBD, mode='w') as writer:\n",
    "    RC03.to_excel(writer, sheet_name='Sheet3',index = False)\n"
   ]
  },
  {
   "cell_type": "code",
   "execution_count": 31,
   "metadata": {},
   "outputs": [],
   "source": [
    "destiny = os.getcwd()"
   ]
  },
  {
   "cell_type": "code",
   "execution_count": 33,
   "metadata": {},
   "outputs": [],
   "source": [
    "destiny = os.path.join(destiny,filenameReporte)"
   ]
  },
  {
   "cell_type": "code",
   "execution_count": 34,
   "metadata": {},
   "outputs": [
    {
     "data": {
      "text/plain": [
       "'C:\\\\Users\\\\jcallomamani\\\\Documents\\\\GitProjects\\\\KPIs\\\\pythonScripts\\\\ReporteCostos.xlsx'"
      ]
     },
     "execution_count": 34,
     "metadata": {},
     "output_type": "execute_result"
    }
   ],
   "source": [
    "shutil.copyfile(fullpathReporte, destiny)"
   ]
  },
  {
   "cell_type": "code",
   "execution_count": null,
   "metadata": {},
   "outputs": [],
   "source": [
    "print(\"Abrindo el Reporte Disfrute\")"
   ]
  },
  {
   "cell_type": "code",
   "execution_count": null,
   "metadata": {},
   "outputs": [],
   "source": [
    "os.startfile(destiny)"
   ]
  },
  {
   "cell_type": "code",
   "execution_count": null,
   "metadata": {},
   "outputs": [],
   "source": [
    "print(\"SCRIPT FINALIZADO\")"
   ]
  }
 ],
 "metadata": {
  "kernelspec": {
   "display_name": "Python 3",
   "language": "python",
   "name": "python3"
  },
  "language_info": {
   "codemirror_mode": {
    "name": "ipython",
    "version": 3
   },
   "file_extension": ".py",
   "mimetype": "text/x-python",
   "name": "python",
   "nbconvert_exporter": "python",
   "pygments_lexer": "ipython3",
   "version": "3.7.1"
  }
 },
 "nbformat": 4,
 "nbformat_minor": 2
}
