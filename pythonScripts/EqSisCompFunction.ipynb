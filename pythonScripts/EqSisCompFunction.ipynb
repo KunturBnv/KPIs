{
 "cells": [
  {
   "cell_type": "code",
   "execution_count": 6,
   "metadata": {},
   "outputs": [],
   "source": [
    "import pandas as pd\n",
    "import numpy as np\n",
    "import os"
   ]
  },
  {
   "cell_type": "code",
   "execution_count": 10,
   "metadata": {},
   "outputs": [],
   "source": [
    "filepathEqUt = r'\\\\u-srvnas\\Areas\\Mantenimiento\\00.1 Mantto Planeamiento\\0000. Gestión 2019\\1. REPORTES\\1. BASES DE DATOS DIARIOS\\Data SAP\\02. Eq y UBT'\n",
    "\n",
    "filenameIE05 = r'IE05.xlsx'\n",
    "filenameIL05 = r'IL05.xlsx'\n"
   ]
  },
  {
   "cell_type": "code",
   "execution_count": 11,
   "metadata": {},
   "outputs": [],
   "source": [
    "FullpathIE05 = os.path.join(filepathEqUt,filenameIE05)\n",
    "FullpathIL05 = os.path.join(filepathEqUt,filenameIL05)"
   ]
  },
  {
   "cell_type": "code",
   "execution_count": 12,
   "metadata": {},
   "outputs": [],
   "source": [
    "dbie05 = pd.read_excel(FullpathIE05)\n",
    "dbil05 = pd.read_excel(FullpathIL05)"
   ]
  },
  {
   "cell_type": "code",
   "execution_count": null,
   "metadata": {},
   "outputs": [],
   "source": []
  }
 ],
 "metadata": {
  "kernelspec": {
   "display_name": "Python 3",
   "language": "python",
   "name": "python3"
  },
  "language_info": {
   "codemirror_mode": {
    "name": "ipython",
    "version": 3
   },
   "file_extension": ".py",
   "mimetype": "text/x-python",
   "name": "python",
   "nbconvert_exporter": "python",
   "pygments_lexer": "ipython3",
   "version": "3.7.1"
  }
 },
 "nbformat": 4,
 "nbformat_minor": 2
}
