{
 "cells": [
  {
   "cell_type": "code",
   "execution_count": 11,
   "metadata": {},
   "outputs": [],
   "source": [
    "import pandas as pd"
   ]
  },
  {
   "cell_type": "code",
   "execution_count": 5,
   "metadata": {},
   "outputs": [],
   "source": [
    "import os"
   ]
  },
  {
   "cell_type": "code",
   "execution_count": 6,
   "metadata": {},
   "outputs": [],
   "source": [
    "import numpy as np"
   ]
  },
  {
   "cell_type": "code",
   "execution_count": 118,
   "metadata": {},
   "outputs": [],
   "source": [
    "filepathCostos = r'\\\\u-srvnas\\Areas\\Mantenimiento\\00.1 Mantto Planeamiento\\0000. Gestión 2019\\1. REPORTES\\1. BASES DE DATOS DIARIOS\\Data SAP\\01. Costos'\n",
    "filepathOtAv = r'\\\\u-srvnas\\Areas\\Mantenimiento\\00.1 Mantto Planeamiento\\0000. Gestión 2019\\1. REPORTES\\1. BASES DE DATOS DIARIOS\\Data SAP\\04. OT y Av'\n",
    "\n",
    "#Costos \n",
    "CeCo = r'BD-CeCo1004.xlsx' #Estatico\n",
    "ClaseCostos = r'BD-ClaseCoste1004.xlsx' #Estatico\n",
    "filename3611 = r'3611.XLSX' #Dinamico\n",
    "filename2993 = r'2993.XLSX' #Dinamico\n",
    "\n",
    "#OT\n",
    "filenameOt = r'IW39-190524.xlsx'\n",
    "\n"
   ]
  },
  {
   "cell_type": "code",
   "execution_count": 119,
   "metadata": {},
   "outputs": [],
   "source": [
    "fullpath_CeCo = os.path.join(filepathCostos,CeCo)\n",
    "fullpath_ClCo = os.path.join(filepathCostos,ClaseCostos)\n",
    "\n",
    "fullpath_3611 = os.path.join(filepathCostos,filename3611)\n",
    "fullpath_2993 = os.path.join(filepathCostos,filename2993)\n",
    "fullpath_Ot = os.path.join(filepathOtAv,filenameOt)"
   ]
  },
  {
   "cell_type": "code",
   "execution_count": 70,
   "metadata": {},
   "outputs": [
    {
     "data": {
      "text/plain": [
       "'\\\\\\\\u-srvnas\\\\Areas\\\\Mantenimiento\\\\00.1 Mantto Planeamiento\\\\0000. Gestión 2019\\\\1. REPORTES\\\\1. BASES DE DATOS DIARIOS\\\\Data SAP\\\\01. Costos\\\\2019\\\\2993\\\\3611-190524-2019-Cargo.XLSX'"
      ]
     },
     "execution_count": 70,
     "metadata": {},
     "output_type": "execute_result"
    }
   ],
   "source": [
    "fullpath_2993"
   ]
  },
  {
   "cell_type": "code",
   "execution_count": 114,
   "metadata": {},
   "outputs": [],
   "source": [
    "dbCeCo = pd.read_excel(fullpath_CeCo)"
   ]
  },
  {
   "cell_type": "code",
   "execution_count": 115,
   "metadata": {},
   "outputs": [],
   "source": [
    "dbClCo = pd.read_excel(fullpath_ClCo)"
   ]
  },
  {
   "cell_type": "code",
   "execution_count": 116,
   "metadata": {},
   "outputs": [],
   "source": [
    "db3611 = pd.read_excel(fullpath_3611,converters={'Orden partner':str,'Centro de coste':str,'Clase de coste':str})"
   ]
  },
  {
   "cell_type": "code",
   "execution_count": 117,
   "metadata": {},
   "outputs": [],
   "source": [
    "db2993 = pd.read_excel(fullpath_2993,converters={'Orden':str,'Clase de coste':str})"
   ]
  },
  {
   "cell_type": "code",
   "execution_count": 123,
   "metadata": {},
   "outputs": [],
   "source": [
    "dbOt = pd.read_excel(fullpath_Ot,converters={'Orden':str,'Aviso':str})"
   ]
  },
  {
   "cell_type": "code",
   "execution_count": 92,
   "metadata": {},
   "outputs": [],
   "source": []
  },
  {
   "cell_type": "code",
   "execution_count": 121,
   "metadata": {},
   "outputs": [
    {
     "data": {
      "text/html": [
       "<div>\n",
       "<style scoped>\n",
       "    .dataframe tbody tr th:only-of-type {\n",
       "        vertical-align: middle;\n",
       "    }\n",
       "\n",
       "    .dataframe tbody tr th {\n",
       "        vertical-align: top;\n",
       "    }\n",
       "\n",
       "    .dataframe thead th {\n",
       "        text-align: right;\n",
       "    }\n",
       "</style>\n",
       "<table border=\"1\" class=\"dataframe\">\n",
       "  <thead>\n",
       "    <tr style=\"text-align: right;\">\n",
       "      <th></th>\n",
       "      <th>Orden</th>\n",
       "      <th>Aviso</th>\n",
       "      <th>Ce.emplazam.</th>\n",
       "      <th>Clase de orden</th>\n",
       "      <th>Cl.actividad PM</th>\n",
       "      <th>Status sistema</th>\n",
       "      <th>Status usuario</th>\n",
       "      <th>Indicador ABC</th>\n",
       "      <th>Prioridad</th>\n",
       "      <th>Fe.inic.extrema</th>\n",
       "      <th>...</th>\n",
       "      <th>GPM hoja ruta</th>\n",
       "      <th>Grupo planif.</th>\n",
       "      <th>Número de toma</th>\n",
       "      <th>Pto.tbjo.resp.</th>\n",
       "      <th>Puesto trabajo</th>\n",
       "      <th>Moneda</th>\n",
       "      <th>TotGen. (plan)</th>\n",
       "      <th>TotalCostesPlan</th>\n",
       "      <th>TotalGen.(real)</th>\n",
       "      <th>Cst.tot.reales</th>\n",
       "    </tr>\n",
       "  </thead>\n",
       "  <tbody>\n",
       "    <tr>\n",
       "      <th>0</th>\n",
       "      <td>4000000</td>\n",
       "      <td>10007616.0</td>\n",
       "      <td>1004</td>\n",
       "      <td>PM02</td>\n",
       "      <td>002</td>\n",
       "      <td>LIB. FMAT PREC</td>\n",
       "      <td>NaN</td>\n",
       "      <td>NaN</td>\n",
       "      <td>NaN</td>\n",
       "      <td>2018-02-08</td>\n",
       "      <td>...</td>\n",
       "      <td>P01</td>\n",
       "      <td>P01</td>\n",
       "      <td>0</td>\n",
       "      <td>PMEC-EQU</td>\n",
       "      <td>NaN</td>\n",
       "      <td>USD</td>\n",
       "      <td>517.39</td>\n",
       "      <td>517.39</td>\n",
       "      <td>0.00</td>\n",
       "      <td>0.00</td>\n",
       "    </tr>\n",
       "    <tr>\n",
       "      <th>1</th>\n",
       "      <td>4000001</td>\n",
       "      <td>10007617.0</td>\n",
       "      <td>1004</td>\n",
       "      <td>PM02</td>\n",
       "      <td>002</td>\n",
       "      <td>LIB. MACO PREC</td>\n",
       "      <td>NaN</td>\n",
       "      <td>NaN</td>\n",
       "      <td>NaN</td>\n",
       "      <td>2018-03-09</td>\n",
       "      <td>...</td>\n",
       "      <td>P01</td>\n",
       "      <td>P01</td>\n",
       "      <td>0</td>\n",
       "      <td>PMEC-EQU</td>\n",
       "      <td>NaN</td>\n",
       "      <td>USD</td>\n",
       "      <td>31.63</td>\n",
       "      <td>31.63</td>\n",
       "      <td>0.00</td>\n",
       "      <td>0.00</td>\n",
       "    </tr>\n",
       "    <tr>\n",
       "      <th>2</th>\n",
       "      <td>300000003</td>\n",
       "      <td>NaN</td>\n",
       "      <td>1004</td>\n",
       "      <td>YM04</td>\n",
       "      <td>Z04</td>\n",
       "      <td>CTEC IMPP MACO MOVM NLIQ PREC</td>\n",
       "      <td>PROG</td>\n",
       "      <td>4.0</td>\n",
       "      <td>NaN</td>\n",
       "      <td>2018-01-16</td>\n",
       "      <td>...</td>\n",
       "      <td>NaN</td>\n",
       "      <td>P03</td>\n",
       "      <td>0</td>\n",
       "      <td>PMEC-PLT</td>\n",
       "      <td>NaN</td>\n",
       "      <td>USD</td>\n",
       "      <td>137349.31</td>\n",
       "      <td>137349.31</td>\n",
       "      <td>137352.26</td>\n",
       "      <td>137352.26</td>\n",
       "    </tr>\n",
       "    <tr>\n",
       "      <th>3</th>\n",
       "      <td>300000005</td>\n",
       "      <td>NaN</td>\n",
       "      <td>1004</td>\n",
       "      <td>YM04</td>\n",
       "      <td>Z13</td>\n",
       "      <td>CTEC NOTI IMPR MACO MOVM NLIQ PREC</td>\n",
       "      <td>PROG</td>\n",
       "      <td>NaN</td>\n",
       "      <td>1.0</td>\n",
       "      <td>2018-10-03</td>\n",
       "      <td>...</td>\n",
       "      <td>NaN</td>\n",
       "      <td>P04</td>\n",
       "      <td>0</td>\n",
       "      <td>PELE-MIN</td>\n",
       "      <td>NaN</td>\n",
       "      <td>USD</td>\n",
       "      <td>39153.75</td>\n",
       "      <td>39153.75</td>\n",
       "      <td>39153.70</td>\n",
       "      <td>39153.70</td>\n",
       "    </tr>\n",
       "    <tr>\n",
       "      <th>4</th>\n",
       "      <td>300000006</td>\n",
       "      <td>NaN</td>\n",
       "      <td>1004</td>\n",
       "      <td>YM04</td>\n",
       "      <td>Z13</td>\n",
       "      <td>CTEC NOTI IMPP MACO MOVM NLIQ PREC</td>\n",
       "      <td>PROG</td>\n",
       "      <td>NaN</td>\n",
       "      <td>2.0</td>\n",
       "      <td>2018-02-01</td>\n",
       "      <td>...</td>\n",
       "      <td>NaN</td>\n",
       "      <td>P02</td>\n",
       "      <td>0</td>\n",
       "      <td>PELE-MIN</td>\n",
       "      <td>NaN</td>\n",
       "      <td>USD</td>\n",
       "      <td>108909.16</td>\n",
       "      <td>108909.16</td>\n",
       "      <td>105536.17</td>\n",
       "      <td>105536.17</td>\n",
       "    </tr>\n",
       "  </tbody>\n",
       "</table>\n",
       "<p>5 rows × 65 columns</p>\n",
       "</div>"
      ],
      "text/plain": [
       "       Orden       Aviso  Ce.emplazam. Clase de orden Cl.actividad PM  \\\n",
       "0    4000000  10007616.0          1004           PM02             002   \n",
       "1    4000001  10007617.0          1004           PM02             002   \n",
       "2  300000003         NaN          1004           YM04             Z04   \n",
       "3  300000005         NaN          1004           YM04             Z13   \n",
       "4  300000006         NaN          1004           YM04             Z13   \n",
       "\n",
       "                       Status sistema Status usuario  Indicador ABC  \\\n",
       "0                      LIB. FMAT PREC            NaN            NaN   \n",
       "1                      LIB. MACO PREC            NaN            NaN   \n",
       "2       CTEC IMPP MACO MOVM NLIQ PREC           PROG            4.0   \n",
       "3  CTEC NOTI IMPR MACO MOVM NLIQ PREC           PROG            NaN   \n",
       "4  CTEC NOTI IMPP MACO MOVM NLIQ PREC           PROG            NaN   \n",
       "\n",
       "   Prioridad Fe.inic.extrema  ... GPM hoja ruta Grupo planif. Número de toma  \\\n",
       "0        NaN      2018-02-08  ...           P01           P01              0   \n",
       "1        NaN      2018-03-09  ...           P01           P01              0   \n",
       "2        NaN      2018-01-16  ...           NaN           P03              0   \n",
       "3        1.0      2018-10-03  ...           NaN           P04              0   \n",
       "4        2.0      2018-02-01  ...           NaN           P02              0   \n",
       "\n",
       "  Pto.tbjo.resp. Puesto trabajo Moneda TotGen. (plan) TotalCostesPlan  \\\n",
       "0       PMEC-EQU            NaN    USD         517.39          517.39   \n",
       "1       PMEC-EQU            NaN    USD          31.63           31.63   \n",
       "2       PMEC-PLT            NaN    USD      137349.31       137349.31   \n",
       "3       PELE-MIN            NaN    USD       39153.75        39153.75   \n",
       "4       PELE-MIN            NaN    USD      108909.16       108909.16   \n",
       "\n",
       "  TotalGen.(real) Cst.tot.reales  \n",
       "0            0.00           0.00  \n",
       "1            0.00           0.00  \n",
       "2       137352.26      137352.26  \n",
       "3        39153.70       39153.70  \n",
       "4       105536.17      105536.17  \n",
       "\n",
       "[5 rows x 65 columns]"
      ]
     },
     "execution_count": 121,
     "metadata": {},
     "output_type": "execute_result"
    }
   ],
   "source": [
    "dbOt.head()"
   ]
  },
  {
   "cell_type": "code",
   "execution_count": 122,
   "metadata": {},
   "outputs": [
    {
     "data": {
      "text/plain": [
       "Orden                       int64\n",
       "Aviso                     float64\n",
       "Ce.emplazam.                int64\n",
       "Clase de orden             object\n",
       "Cl.actividad PM            object\n",
       "Status sistema             object\n",
       "Status usuario             object\n",
       "Indicador ABC             float64\n",
       "Prioridad                 float64\n",
       "Fe.inic.extrema    datetime64[ns]\n",
       "Hora inicio                object\n",
       "Fe.fin extrema     datetime64[ns]\n",
       "Hora fin extr.             object\n",
       "Texto breve                object\n",
       "Fecha entrada      datetime64[ns]\n",
       "Autor                      object\n",
       "Modificado por             object\n",
       "Fecha ref.         datetime64[ns]\n",
       "Hora referencia            object\n",
       "Fe.inicio real     datetime64[ns]\n",
       "Hora in.real               object\n",
       "Fecha fin real     datetime64[ns]\n",
       "Fin real (hora)            object\n",
       "Inicio program.    datetime64[ns]\n",
       "Hora inicio.1              object\n",
       "Fin programado     datetime64[ns]\n",
       "Fin (hora)                 object\n",
       "Liberación real    datetime64[ns]\n",
       "Estado instal.            float64\n",
       "Equipo                    float64\n",
       "                        ...      \n",
       "Campo clasif.              object\n",
       "Plan mant.prev.           float64\n",
       "Pos.mantenim.             float64\n",
       "IndPlanifOrden            float64\n",
       "Orden principal           float64\n",
       "Orden superior            float64\n",
       "Gpo.hojas ruta             object\n",
       "Cont.gpo.HRuta            float64\n",
       "Ctro.pto.trab.              int64\n",
       "CeCo responsab.             int64\n",
       "Centro                      int64\n",
       "Activo fijo               float64\n",
       "Centro planif.              int64\n",
       "Pet.borrado                object\n",
       "Revisión                   object\n",
       "Res./SolPed                 int64\n",
       "CeBe                       object\n",
       "Centro coste              float64\n",
       "Sociedad                    int64\n",
       "Sociedad CO                 int64\n",
       "GPM hoja ruta              object\n",
       "Grupo planif.              object\n",
       "Número de toma              int64\n",
       "Pto.tbjo.resp.             object\n",
       "Puesto trabajo             object\n",
       "Moneda                     object\n",
       "TotGen. (plan)            float64\n",
       "TotalCostesPlan           float64\n",
       "TotalGen.(real)           float64\n",
       "Cst.tot.reales            float64\n",
       "Length: 65, dtype: object"
      ]
     },
     "execution_count": 122,
     "metadata": {},
     "output_type": "execute_result"
    }
   ],
   "source": [
    "dbOt.dtypes"
   ]
  },
  {
   "cell_type": "code",
   "execution_count": null,
   "metadata": {},
   "outputs": [],
   "source": []
  }
 ],
 "metadata": {
  "kernelspec": {
   "display_name": "Python 3",
   "language": "python",
   "name": "python3"
  },
  "language_info": {
   "codemirror_mode": {
    "name": "ipython",
    "version": 3
   },
   "file_extension": ".py",
   "mimetype": "text/x-python",
   "name": "python",
   "nbconvert_exporter": "python",
   "pygments_lexer": "ipython3",
   "version": "3.7.1"
  }
 },
 "nbformat": 4,
 "nbformat_minor": 2
}
