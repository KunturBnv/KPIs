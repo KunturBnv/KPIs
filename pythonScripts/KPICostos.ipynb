{
 "cells": [
  {
   "cell_type": "code",
   "execution_count": 105,
   "metadata": {},
   "outputs": [],
   "source": [
    "import pandas as pd\n",
    "import numpy as np\n",
    "import os\n",
    "import openpyxl\n",
    "import datetime\n",
    "import parser"
   ]
  },
  {
   "cell_type": "code",
   "execution_count": 178,
   "metadata": {},
   "outputs": [],
   "source": [
    "# Files Directions, Rutes and file names\n",
    "filepathCostos = r'\\\\u-srvnas\\Areas\\Mantenimiento\\00.1 Mantto Planeamiento\\0000. Gestión 2019\\1. REPORTES\\1. BASES DE DATOS DIARIOS\\Data SAP\\01. Costos'\n",
    "filepathOtAv = r'\\\\u-srvnas\\Areas\\Mantenimiento\\00.1 Mantto Planeamiento\\0000. Gestión 2019\\1. REPORTES\\1. BASES DE DATOS DIARIOS\\Data SAP\\04. OT y Av'\n",
    "\n",
    "#File Names\n",
    "CeCo = r'CeCo1004.xlsx' #Estatico\n",
    "ClaseCostos = r'KA23.xlsx' #Estatico\n",
    "Budget = r'Presupuesto1004-2019Qlik.xlsx' #Estatico\n",
    "\n",
    "filename3611 = r'3611.XLSX' #Dinamico\n",
    "filename2993 = r'2993.XLSX' #Dinamico\n",
    "\n",
    "#OT\n",
    "filenameOt = r'IW39.xlsx'"
   ]
  },
  {
   "cell_type": "code",
   "execution_count": 179,
   "metadata": {},
   "outputs": [],
   "source": [
    "#Charging DataSet\n",
    "fullpath_CeCo = os.path.join(filepathCostos,CeCo)\n",
    "fullpath_ClCo = os.path.join(filepathCostos,ClaseCostos)\n",
    "fullpath_Budget = os.path.join(filepathCostos,Budget)\n",
    "\n",
    "fullpath_3611 = os.path.join(filepathCostos,filename3611)\n",
    "fullpath_2993 = os.path.join(filepathCostos,filename2993)\n",
    "fullpath_Ot = os.path.join(filepathOtAv,filenameOt)"
   ]
  },
  {
   "cell_type": "code",
   "execution_count": 208,
   "metadata": {},
   "outputs": [],
   "source": [
    "dbceco = pd.read_excel(fullpath_CeCo, converters={'CeCo':str})\n",
    "dbclco = pd.read_excel(fullpath_ClCo, converters={'ClCo':str})\n",
    "dbbudget = pd.read_excel(fullpath_Budget, converters={'CeCo':str, 'ClCo':str, 'MesNumero':str})"
   ]
  },
  {
   "cell_type": "code",
   "execution_count": 209,
   "metadata": {},
   "outputs": [],
   "source": [
    "db3611 = pd.read_excel(fullpath_3611, converters={'Orden partner':str,\n",
    "                                                  'Centro de coste':str,\n",
    "                                                  'Clase de coste':str,\n",
    "                                                  'Documento compras':str,\n",
    "                                                  'Proveedor':str,\n",
    "                                                  'Material':str})\n",
    "db3611 = db3611.dropna(subset=['Centro de coste'])\n",
    "db3611 = db3611.rename(columns={'Período':'Periodo',\n",
    "                                'Fe.contabilización':'FechaContable',\n",
    "                                'Valor/Moneda objeto':'Costo',\n",
    "                                'Moneda del informe':'Moneda',\n",
    "                                'Orden partner':'Orden',\n",
    "                                'Denominación del objeto del interlocutor':'DenomOrden',\n",
    "                                'Documento compras':'DocumentoCompras',\n",
    "                                'Texto de pedido':'DenomDocCompras',\n",
    "                                'Nombre':'DenomProveedor',\n",
    "                                'Centro de coste':'CeCo',\n",
    "                                'Denominación del objeto':'DenomCeCo',\n",
    "                                'Clase de coste':'ClCo',\n",
    "                                'Descrip.clases coste':'DenomClCo',\n",
    "                                'Texto breve de material':'DenomMaterial',\n",
    "                                'Cantidad total reg.':'CantMaterial',\n",
    "                                'Clase de documento':'ClaseDocumento',\n",
    "                                'Indic.cargo/abono':'IndCargoAbono'})\n",
    "db3611['Escenario'] = 'Real'\n",
    "db3611 = db3611.dropna(subset=['CeCo'])"
   ]
  },
  {
   "cell_type": "code",
   "execution_count": 210,
   "metadata": {},
   "outputs": [],
   "source": [
    "db2993 = pd.read_excel(fullpath_2993, converters={'Orden':str,\n",
    "                                                  'Clase de coste':str})\n",
    "db2993 = db2993.dropna(subset=['Orden'])\n",
    "\n",
    "db2993 = db2993.rename(columns={'División':'Division',\n",
    "                                'Período':'Periodo',\n",
    "                                'Fe.contabilización':'FechaContable',\n",
    "                                'Denominación del objeto':'DenomOrden',\n",
    "                                'Valor/Moneda objeto':'Costo',\n",
    "                                'Moneda del objeto':'Moneda',\n",
    "                                'Texto breve de material':'DenomMaterial',\n",
    "                                'Cantidad total reg.':'CantMaterial',\n",
    "                                'Ud. cantidad contab.':'UnidadCantMaterial',\n",
    "                                'Documento compras':'DocumentoCompras',\n",
    "                                'Texto de pedido':'DenomDocCompras',\n",
    "                                'Clase de coste':'ClCo',\n",
    "                                'Descrip.clases coste':'DenomClCo',\n",
    "                                'Nombre':'DenomProveedor',\n",
    "                                'Clase de documento':'ClaseDocumento',\n",
    "                                'Indic.cargo/abono':'IndCargoAbono'})\n",
    "\n",
    "db2993['Escenario'] = 'Real'"
   ]
  },
  {
   "cell_type": "code",
   "execution_count": 211,
   "metadata": {},
   "outputs": [],
   "source": [
    "dbot = pd.read_excel(fullpath_Ot, head = 0,converters={'Orden':str,'Aviso':str,'Centro coste':str})\n",
    "dbot = dbot.rename(columns={'Texto breve':'DenomOrden',\n",
    "                                'Clase de orden':'ClaseOrden',\n",
    "                                'Cl.actividad PM':'ClaseActividadOrden',\n",
    "                                'Status sistema':'EstatusSistema',\n",
    "                                'Status usuario':'EstatusUsuario',\n",
    "                                'Indicador ABC':'CriticidadEq',\n",
    "                                'Fe.inic.extrema':'FechaProgramada',\n",
    "                                'Hora inicio':'HoraProgramada',\n",
    "                                'Fe.inicio real':'FechaInicioEjecucion',\n",
    "                                'Hora in.real':'HoraInicioEjecucion',\n",
    "                                'Fecha fin real':'FechaFinEjecucion',\n",
    "                                'Fin real (hora)':'HoraFinEjecucion',\n",
    "                                'Liberación real':'FechaDeProgramacon',\n",
    "                                'Denominación':'DenomEq',\n",
    "                                'Ubicac.técnica':'UbicacionTecnica',\n",
    "                                'Denominación.1':'DenmUbT',\n",
    "                                'Plan mant.prev.':'PlanMtto',\n",
    "                                'Revisión':'Revision',\n",
    "                                'Centro coste':'CeCo',\n",
    "                                'Grupo planif.':'GrupoPlanif',\n",
    "                                'Pto.tbjo.resp.':'PuestoTrabajoResp',\n",
    "                                'Puesto trabajo':'PuestoTrabajo'})\n"
   ]
  },
  {
   "cell_type": "code",
   "execution_count": 212,
   "metadata": {},
   "outputs": [],
   "source": [
    "#Reporte de Costos / 2993 <-> Clase de Coste\n",
    "clco2993 = pd.merge(db2993, \n",
    "                    dbclco[['ClCo', 'NaturalezaGasto']], \n",
    "                    on='ClCo', \n",
    "                    how = 'left',\n",
    "                    validate = 'm:1')"
   ]
  },
  {
   "cell_type": "code",
   "execution_count": 213,
   "metadata": {},
   "outputs": [],
   "source": [
    "#Reporte de Costos / 2993,clase de coste<-> Orden de Mantenimiento\n",
    "clco2993ot = pd.merge(clco2993, \n",
    "                    dbot[['Orden',\n",
    "                          'ClaseOrden',\n",
    "                          'CeCo',\n",
    "                          'CriticidadEq',\n",
    "                          'Equipo','DenomEq',\n",
    "                          'UbicacionTecnica', \n",
    "                          'DenmUbT',\n",
    "                          'PlanMtto',\n",
    "                          'GrupoPlanif']], \n",
    "                    on = 'Orden', \n",
    "                    how = 'left',\n",
    "                    validate = 'm:1')"
   ]
  },
  {
   "cell_type": "code",
   "execution_count": 214,
   "metadata": {},
   "outputs": [],
   "source": [
    "#Reporte de Costos / 2993,clase de coste,Orden de Mantenimiento<-> Centro de Coste\n",
    "clco2993otceco = pd.merge(clco2993ot, \n",
    "                    dbceco[['CeCo','AreaResponsable','Proceso']],\n",
    "                    on='CeCo',\n",
    "                    how = 'left',\n",
    "                    validate = 'm:1')\n",
    "clco2993otceco[\"MesNumero\"] = clco2993otceco[\"FechaContable\"].apply(lambda x: x.strftime('%m'))"
   ]
  },
  {
   "cell_type": "code",
   "execution_count": 216,
   "metadata": {},
   "outputs": [],
   "source": [
    "dbbudgetceco = pd.merge(dbbudget,\n",
    "                    dbceco[['CeCo','AreaResponsable']],\n",
    "                    on='CeCo',\n",
    "                    how = 'left',\n",
    "                    validate = 'm:1')"
   ]
  },
  {
   "cell_type": "code",
   "execution_count": 217,
   "metadata": {},
   "outputs": [],
   "source": [
    "#Reporte de Costos / 3611 <-> Clase de Coste\n",
    "clco3611 = pd.merge(db3611, \n",
    "                    dbclco[['ClCo', \n",
    "                            'NaturalezaGasto']], \n",
    "                    on='ClCo',\n",
    "                    how = 'left',\n",
    "                    validate = 'm:1')"
   ]
  },
  {
   "cell_type": "code",
   "execution_count": 218,
   "metadata": {},
   "outputs": [],
   "source": [
    "#Reporte de Costos / 2993,clase de coste<-> Orden de Mantenimiento\n",
    "clco3611ot = pd.merge(clco3611, \n",
    "                    dbot[['Orden',\n",
    "                          'ClaseOrden',\n",
    "                          'CriticidadEq',\n",
    "                          'Equipo','DenomEq',\n",
    "                          'UbicacionTecnica', \n",
    "                          'DenmUbT',\n",
    "                          'PlanMtto',\n",
    "                          'GrupoPlanif']], \n",
    "                    on='Orden', \n",
    "                    how = 'left',\n",
    "                    validate = 'm:1')"
   ]
  },
  {
   "cell_type": "code",
   "execution_count": 219,
   "metadata": {},
   "outputs": [],
   "source": [
    "#Reporte de Costos / 3611,clase de coste,Orden de Mantenimiento<-> Centro de Coste\n",
    "clco3611otceco = pd.merge(clco3611ot, \n",
    "                    dbceco[['CeCo','AreaResponsable','Proceso']],\n",
    "                    on='CeCo',\n",
    "                    how = 'left',\n",
    "                    validate = 'm:1')\n",
    "clco3611otceco[\"MesNumero\"] = clco3611otceco[\"FechaContable\"].apply(lambda x: x.strftime('%m'))"
   ]
  },
  {
   "cell_type": "code",
   "execution_count": 220,
   "metadata": {},
   "outputs": [
    {
     "data": {
      "text/plain": [
       "Index(['Escenario', 'CeCo', 'DenomCeCo', 'Division', 'Proceso', 'Año',\n",
       "       'MesNumero', 'Mes', 'NaturalezaGasto', 'ClCo', 'DenomClCo', 'Costo',\n",
       "       'AreaResponsable'],\n",
       "      dtype='object')"
      ]
     },
     "execution_count": 220,
     "metadata": {},
     "output_type": "execute_result"
    }
   ],
   "source": [
    "dbbudgetceco.columns"
   ]
  },
  {
   "cell_type": "code",
   "execution_count": 221,
   "metadata": {},
   "outputs": [],
   "source": [
    "RC02 = pd.concat([clco3611otceco[['FechaContable', \n",
    "                                  'Orden',\n",
    "                                  'DenomOrden', \n",
    "                                  'Costo',\n",
    "                                  'ClaseDocumento', \n",
    "                                  'IndCargoAbono', \n",
    "                                  'Escenario', \n",
    "                                  'NaturalezaGasto',\n",
    "                                  'CeCo',\n",
    "                                  'AreaResponsable', \n",
    "                                  'Proceso', \n",
    "                                  'MesNumero']], \n",
    "                  dbbudgetceco[['CeCo', \n",
    "                            'MesNumero',\n",
    "                            'Costo',\n",
    "                            'Proceso',\n",
    "                            'AreaResponsable',\n",
    "                            'Escenario',\n",
    "                            'NaturalezaGasto']]], \n",
    "                 ignore_index=True, \n",
    "                 sort=True)"
   ]
  },
  {
   "cell_type": "code",
   "execution_count": 173,
   "metadata": {},
   "outputs": [],
   "source": [
    "with pd.ExcelWriter('output.xlsx', mode='w') as writer:\n",
    "    dbbudgetceco.to_excel(writer, sheet_name='Sheetname2',index = False)"
   ]
  },
  {
   "cell_type": "code",
   "execution_count": null,
   "metadata": {},
   "outputs": [],
   "source": [
    "\n",
    "\n"
   ]
  }
 ],
 "metadata": {
  "kernelspec": {
   "display_name": "Python 3",
   "language": "python",
   "name": "python3"
  },
  "language_info": {
   "codemirror_mode": {
    "name": "ipython",
    "version": 3
   },
   "file_extension": ".py",
   "mimetype": "text/x-python",
   "name": "python",
   "nbconvert_exporter": "python",
   "pygments_lexer": "ipython3",
   "version": "3.7.1"
  }
 },
 "nbformat": 4,
 "nbformat_minor": 2
}
