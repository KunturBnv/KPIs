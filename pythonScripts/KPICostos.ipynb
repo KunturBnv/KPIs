{
 "cells": [
  {
   "cell_type": "code",
   "execution_count": 131,
   "metadata": {},
   "outputs": [],
   "source": [
    "import pandas as pd\n",
    "import numpy as np\n",
    "import os\n",
    "import openpyxl"
   ]
  },
  {
   "cell_type": "code",
   "execution_count": 339,
   "metadata": {},
   "outputs": [],
   "source": [
    "# Files Directions, Rutes and file names\n",
    "filepathCostos = r'\\\\u-srvnas\\Areas\\Mantenimiento\\00.1 Mantto Planeamiento\\0000. Gestión 2019\\1. REPORTES\\1. BASES DE DATOS DIARIOS\\Data SAP\\01. Costos'\n",
    "filepathOtAv = r'\\\\u-srvnas\\Areas\\Mantenimiento\\00.1 Mantto Planeamiento\\0000. Gestión 2019\\1. REPORTES\\1. BASES DE DATOS DIARIOS\\Data SAP\\04. OT y Av'\n",
    "\n",
    "#Costos \n",
    "CeCo = r'BD-CeCo1004.xlsx' #Estatico\n",
    "ClaseCostos = r'BD-ClaseCoste1004.xlsx' #Estatico\n",
    "Budget = r'Presupuesto1004-2019Qlik.xlsx' #Estatico\n",
    "\n",
    "filename3611 = r'3611.XLSX' #Dinamico\n",
    "filename2993 = r'2993.XLSX' #Dinamico\n",
    "\n",
    "#OT\n",
    "filenameOt = r'IW39.xlsx'"
   ]
  },
  {
   "cell_type": "code",
   "execution_count": 341,
   "metadata": {},
   "outputs": [],
   "source": [
    "#Charging DataSet\n",
    "fullpath_CeCo = os.path.join(filepathCostos,CeCo)\n",
    "fullpath_ClCo = os.path.join(filepathCostos,ClaseCostos)\n",
    "fullpath_Budget = os.path.join(filepathCostos,Presupuesto)\n",
    "\n",
    "fullpath_3611 = os.path.join(filepathCostos,filename3611)\n",
    "fullpath_2993 = os.path.join(filepathCostos,filename2993)\n",
    "fullpath_Ot = os.path.join(filepathOtAv,filenameOt)"
   ]
  },
  {
   "cell_type": "code",
   "execution_count": 342,
   "metadata": {},
   "outputs": [
    {
     "data": {
      "text/plain": [
       "'\\\\\\\\u-srvnas\\\\Areas\\\\Mantenimiento\\\\00.1 Mantto Planeamiento\\\\0000. Gestión 2019\\\\1. REPORTES\\\\1. BASES DE DATOS DIARIOS\\\\Data SAP\\\\01. Costos\\\\Presupuesto1004-2019Qlik.xlsx'"
      ]
     },
     "execution_count": 342,
     "metadata": {},
     "output_type": "execute_result"
    }
   ],
   "source": [
    "fullpath_Budget"
   ]
  },
  {
   "cell_type": "code",
   "execution_count": 351,
   "metadata": {},
   "outputs": [],
   "source": [
    "dbceco = pd.read_excel(fullpath_CeCo, converters={'Centro de Costo':str})\n",
    "dbclco = pd.read_excel(fullpath_ClCo, converters={'Clase de Coste':str})\n",
    "dbbudget = pd.read_excel(fullpath_Budget, converters={'CeCo':str, 'Clase  de Coste':str})"
   ]
  },
  {
   "cell_type": "code",
   "execution_count": 207,
   "metadata": {},
   "outputs": [],
   "source": [
    "db3611 = pd.read_excel(fullpath_3611, converters={'Orden partner':str,'Centro de coste':str,'Clase de coste':str})"
   ]
  },
  {
   "cell_type": "code",
   "execution_count": 208,
   "metadata": {},
   "outputs": [],
   "source": [
    "db2993 = pd.read_excel(fullpath_2993, converters={'Orden':str,'Clase de coste':str})"
   ]
  },
  {
   "cell_type": "code",
   "execution_count": 285,
   "metadata": {},
   "outputs": [],
   "source": [
    "dbot = pd.read_excel(fullpath_Ot, head = 0,converters={'Orden':str,'Aviso':str,'Centro coste':str})"
   ]
  },
  {
   "cell_type": "code",
   "execution_count": 354,
   "metadata": {},
   "outputs": [
    {
     "data": {
      "text/plain": [
       "Escenario                      object\n",
       "CeCo                           object\n",
       "Descripción CeCo               object\n",
       "Division                       object\n",
       "PG.Proceso                     object\n",
       "Año                             int64\n",
       "Mes                            object\n",
       "Grupo Naturaleza               object\n",
       "Clase de Coste                  int64\n",
       "Descripción Clase de Coste     object\n",
       "Importe US$                   float64\n",
       "dtype: object"
      ]
     },
     "execution_count": 354,
     "metadata": {},
     "output_type": "execute_result"
    }
   ],
   "source": [
    "dbbudget.dtypes\n"
   ]
  },
  {
   "cell_type": "code",
   "execution_count": 324,
   "metadata": {},
   "outputs": [],
   "source": [
    "#Reporte de Costos / 2993 <-> Clase de Coste\n",
    "clco2993 = pd.merge(db2993[['Orden', 'Fe.contabilización','Valor/Moneda objeto', 'Clase de coste']], \n",
    "                    dbclco[['Clase de Coste', 'Grupo Naturaleza']], \n",
    "                    left_on='Clase de coste', right_on='Clase de Coste', \n",
    "                    how = 'left',\n",
    "                    validate = 'm:1')\n",
    "clco2993 = clco2993.drop(['Clase de coste','Clase de Coste'], axis = 1)"
   ]
  },
  {
   "cell_type": "code",
   "execution_count": 333,
   "metadata": {},
   "outputs": [
    {
     "data": {
      "text/plain": [
       "Orden                          object\n",
       "Fe.contabilización     datetime64[ns]\n",
       "Valor/Moneda objeto           float64\n",
       "Grupo Naturaleza               object\n",
       "Clase de orden                 object\n",
       "Centro de Costo                object\n",
       "Área Responsable               object\n",
       "Proceso                        object\n",
       "dtype: object"
      ]
     },
     "execution_count": 333,
     "metadata": {},
     "output_type": "execute_result"
    }
   ],
   "source": [
    "clco2993otceco.dtypes"
   ]
  },
  {
   "cell_type": "code",
   "execution_count": 326,
   "metadata": {},
   "outputs": [],
   "source": [
    "#Reporte de Costos / 2993 <-> Orden de Mantenimiento\n",
    "clco2993ot = pd.merge(clco2993, \n",
    "                    dbot[['Orden', 'Clase de orden','Centro coste']], \n",
    "                    on = 'Orden', \n",
    "                    how = 'left',\n",
    "                    validate = 'm:1')"
   ]
  },
  {
   "cell_type": "code",
   "execution_count": 334,
   "metadata": {},
   "outputs": [],
   "source": [
    "clco2993otceco = pd.merge(clco2993ot, \n",
    "                    dbceco[['Centro de Costo','Área Responsable','Proceso']],\n",
    "                    left_on='Centro coste', right_on='Centro de Costo',\n",
    "                    how = 'left',\n",
    "                    validate = 'm:1')\n",
    "clco2993otceco = clco2993otceco.drop(['Centro coste'], axis = 1)"
   ]
  },
  {
   "cell_type": "code",
   "execution_count": 286,
   "metadata": {},
   "outputs": [],
   "source": []
  },
  {
   "cell_type": "code",
   "execution_count": 247,
   "metadata": {},
   "outputs": [],
   "source": [
    "RC01 = pd.merge(db2993[['Orden', 'Fe.contabilización', 'Valor/Moneda objeto', 'Clase de coste']],\n",
    "                dbOt[['Orden', 'Clase de orden', 'Status sistema', 'Grupo planif.', 'Equipo']],\n",
    "                on = ['Orden','Orden'],\n",
    "                how = 'left')"
   ]
  },
  {
   "cell_type": "code",
   "execution_count": 308,
   "metadata": {},
   "outputs": [
    {
     "data": {
      "text/plain": [
       "Orden                          object\n",
       "Fe.contabilización     datetime64[ns]\n",
       "Valor/Moneda objeto           float64\n",
       "Grupo Naturaleza               object\n",
       "Clase de orden                 object\n",
       "Centro coste                   object\n",
       "Centro de Costo                object\n",
       "Área Responsable               object\n",
       "Proceso                        object\n",
       "dtype: object"
      ]
     },
     "execution_count": 308,
     "metadata": {},
     "output_type": "execute_result"
    }
   ],
   "source": [
    "clco2993otceco.dtypes"
   ]
  },
  {
   "cell_type": "code",
   "execution_count": 296,
   "metadata": {},
   "outputs": [
    {
     "data": {
      "text/plain": [
       "Centro de Costo     object\n",
       "CECO Descripción    object\n",
       "Área Responsable    object\n",
       "Proceso             object\n",
       "Sub Proceso         object\n",
       "Sub Grupo           object\n",
       "Área (Gestor)       object\n",
       "Zona                object\n",
       "CECO Nombre         object\n",
       "dtype: object"
      ]
     },
     "execution_count": 296,
     "metadata": {},
     "output_type": "execute_result"
    }
   ],
   "source": [
    "dbceco.dtypes"
   ]
  },
  {
   "cell_type": "code",
   "execution_count": 309,
   "metadata": {},
   "outputs": [],
   "source": [
    "with pd.ExcelWriter('output.xlsx', mode='w') as writer:\n",
    "    clco2993otceco.to_excel(writer, sheet_name='Sheet_name_1',index = False)"
   ]
  },
  {
   "cell_type": "code",
   "execution_count": null,
   "metadata": {},
   "outputs": [],
   "source": []
  },
  {
   "cell_type": "code",
   "execution_count": null,
   "metadata": {},
   "outputs": [],
   "source": []
  },
  {
   "cell_type": "code",
   "execution_count": 112,
   "metadata": {},
   "outputs": [
    {
     "data": {
      "text/plain": [
       "División                                 float64\n",
       "Centro                                   float64\n",
       "Ejercicio                                float64\n",
       "Período                                  float64\n",
       "Fe.contabilización                datetime64[ns]\n",
       "Orden                                     object\n",
       "Denominación del objeto                   object\n",
       "Valor/Moneda objeto                      float64\n",
       "Moneda del objeto                         object\n",
       "Material                                 float64\n",
       "Texto breve de material                   object\n",
       "Cantidad total reg.                      float64\n",
       "Ud. cantidad contab.                      object\n",
       "Documento compras                        float64\n",
       "Texto de pedido                           object\n",
       "Clase de coste                            object\n",
       "Descrip.clases coste                      object\n",
       "Proveedor                                float64\n",
       "Nombre                                    object\n",
       "Clase de documento                        object\n",
       "Anulado                                  float64\n",
       "Indic.cargo/abono                         object\n",
       "Fecha de documento                datetime64[ns]\n",
       "Usuario                                   object\n",
       "Texto de cabecera de documento            object\n",
       "dtype: object"
      ]
     },
     "execution_count": 112,
     "metadata": {},
     "output_type": "execute_result"
    }
   ],
   "source": [
    "db2993.dtypes"
   ]
  },
  {
   "cell_type": "code",
   "execution_count": null,
   "metadata": {},
   "outputs": [],
   "source": []
  }
 ],
 "metadata": {
  "kernelspec": {
   "display_name": "Python 3",
   "language": "python",
   "name": "python3"
  },
  "language_info": {
   "codemirror_mode": {
    "name": "ipython",
    "version": 3
   },
   "file_extension": ".py",
   "mimetype": "text/x-python",
   "name": "python",
   "nbconvert_exporter": "python",
   "pygments_lexer": "ipython3",
   "version": "3.7.1"
  }
 },
 "nbformat": 4,
 "nbformat_minor": 2
}
