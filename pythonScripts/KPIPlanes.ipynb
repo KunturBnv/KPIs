{
 "cells": [
  {
   "cell_type": "code",
   "execution_count": 1,
   "metadata": {},
   "outputs": [],
   "source": [
    "import pandas as pd\n",
    "import numpy as np\n",
    "import os"
   ]
  },
  {
   "cell_type": "code",
   "execution_count": 2,
   "metadata": {},
   "outputs": [],
   "source": [
    "filepathPlanes = r'\\\\u-srvnas\\Areas\\Mantenimiento\\00.1 Mantto Planeamiento\\0000. Gestión 2019\\1. REPORTES\\1. BASES DE DATOS DIARIOS\\Data SAP\\08. Reportes\\Reporte de Planes'\n",
    "filepathOtAv = r'\\\\u-srvnas\\Areas\\Mantenimiento\\00.1 Mantto Planeamiento\\0000. Gestión 2019\\1. REPORTES\\1. BASES DE DATOS DIARIOS\\Data SAP\\04. OT y Av'\n",
    "filepathEqUt = r'\\\\u-srvnas\\Areas\\Mantenimiento\\00.1 Mantto Planeamiento\\0000. Gestión 2019\\1. REPORTES\\1. BASES DE DATOS DIARIOS\\Data SAP\\02. Eq y UBT'\n",
    "\n",
    "filenameIE05 = r'IE05.xlsx'\n",
    "filenameIL05 = r'IL05.xlsx'\n",
    "\n",
    "filenameIP18 = r'IP16.xlsx'\n",
    "filenameIP16 = r'IP18.xlsx'\n",
    "filenameIP19 = r'IP19.xlsx'\n",
    "\n",
    "filenameOT =  r'IW39.xlsx'"
   ]
  },
  {
   "cell_type": "code",
   "execution_count": 3,
   "metadata": {},
   "outputs": [],
   "source": [
    "fullpathIP18 = os.path.join(filepathPlanes, filenameIP18)\n",
    "fullpathIP16 = os.path.join(filepathPlanes, filenameIP16)\n",
    "fullpathOT = os.path.join(filepathOtAv, filenameOT)"
   ]
  },
  {
   "cell_type": "code",
   "execution_count": 4,
   "metadata": {},
   "outputs": [],
   "source": [
    "dbip18 = pd.read_excel(fullpathIP18)"
   ]
  },
  {
   "cell_type": "code",
   "execution_count": null,
   "metadata": {},
   "outputs": [],
   "source": [
    "dbip16 = "
   ]
  },
  {
   "cell_type": "code",
   "execution_count": 18,
   "metadata": {},
   "outputs": [
    {
     "data": {
      "text/plain": [
       "'\\\\\\\\u-srvnas\\\\Areas\\\\Mantenimiento\\\\00.1 Mantto Planeamiento\\\\0000. Gestión 2019\\\\1. REPORTES\\\\1. BASES DE DATOS DIARIOS\\\\Data SAP\\\\08. Reportes\\\\Reporte de Planes\\\\IP16.xlsx'"
      ]
     },
     "execution_count": 18,
     "metadata": {},
     "output_type": "execute_result"
    }
   ],
   "source": [
    "fullpathIP18"
   ]
  }
 ],
 "metadata": {
  "kernelspec": {
   "display_name": "Python 3",
   "language": "python",
   "name": "python3"
  },
  "language_info": {
   "codemirror_mode": {
    "name": "ipython",
    "version": 3
   },
   "file_extension": ".py",
   "mimetype": "text/x-python",
   "name": "python",
   "nbconvert_exporter": "python",
   "pygments_lexer": "ipython3",
   "version": "3.7.3"
  }
 },
 "nbformat": 4,
 "nbformat_minor": 2
}
